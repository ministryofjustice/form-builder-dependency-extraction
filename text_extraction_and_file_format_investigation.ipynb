{
 "cells": [
  {
   "cell_type": "code",
   "execution_count": 1,
   "metadata": {
    "collapsed": false
   },
   "outputs": [],
   "source": [
    "import PyPDF2\n",
    "import os\n",
    "import sys\n",
    "import re\n",
    "import textract\n",
    "import docx"
   ]
  },
  {
   "cell_type": "code",
   "execution_count": 2,
   "metadata": {
    "collapsed": true
   },
   "outputs": [],
   "source": [
    "rootdir = '/Users/eddieandress/development/forms/live_forms/'\n",
    "extraction_file_path = '/Users/eddieandress/development/forms/live_forms_extracted/'\n",
    "os.chdir(rootdir)"
   ]
  },
  {
   "cell_type": "code",
   "execution_count": 3,
   "metadata": {
    "collapsed": false
   },
   "outputs": [
    {
     "name": "stderr",
     "output_type": "stream",
     "text": [
      "PdfReadWarning: Xref table not zero-indexed. ID numbers for objects will be corrected. [pdf.py:1736]\n"
     ]
    }
   ],
   "source": [
    "reader_fail = []\n",
    "pagenum_fail = []\n",
    "\n",
    "for subdir, dirs, files in os.walk(rootdir):\n",
    "    for file in files:\n",
    "        text = \"\"\n",
    "        if '.pdf' in file:\n",
    "            pdfFileObj = open(file, 'rb')\n",
    "            try:\n",
    "                pdfReader = PyPDF2.PdfFileReader(pdfFileObj)\n",
    "            except:\n",
    "                reader_fail.append(file)\n",
    "                continue\n",
    "            try:\n",
    "                num_pages = pdfReader.numPages\n",
    "            except:\n",
    "                pagenum_fail.append(file)\n",
    "                continue\n",
    "            for page in range(num_pages):\n",
    "                page = pdfReader.getPage(page)\n",
    "                text = text + page.extractText().lower().encode('ascii', 'ignore')\n",
    "                \n",
    "            text_file_name = file.split('.')[0]\n",
    "            text_file = open(extraction_file_path + text_file_name + '.txt', 'w')\n",
    "            text_file.write(text)\n",
    "            text_file.close()\n",
    "\n",
    "# 7 failures"
   ]
  },
  {
   "cell_type": "code",
   "execution_count": 4,
   "metadata": {
    "collapsed": false
   },
   "outputs": [
    {
     "data": {
      "text/plain": [
       "['c19-cym.pdf',\n",
       " 'n163-eng.pdf',\n",
       " 'n253-eng.pdf',\n",
       " 'n254-bil.pdf',\n",
       " 'n266-bil.pdf',\n",
       " 'n2b-bil.pdf']"
      ]
     },
     "execution_count": 4,
     "metadata": {},
     "output_type": "execute_result"
    }
   ],
   "source": [
    "reader_fail"
   ]
  },
  {
   "cell_type": "code",
   "execution_count": 5,
   "metadata": {
    "collapsed": false
   },
   "outputs": [
    {
     "data": {
      "text/plain": [
       "['n54a-eng.pdf']"
      ]
     },
     "execution_count": 5,
     "metadata": {},
     "output_type": "execute_result"
    }
   ],
   "source": [
    "pagenum_fail"
   ]
  },
  {
   "cell_type": "code",
   "execution_count": 6,
   "metadata": {
    "collapsed": false
   },
   "outputs": [
    {
     "name": "stdout",
     "output_type": "stream",
     "text": [
      "1570 PDF\n",
      "441 Word\n",
      "6 Other\n",
      "\n",
      "Files in other formats:\n"
     ]
    },
    {
     "data": {
      "text/plain": [
       "['adult-deed-poll-pack-eng.zip',\n",
       " 'claim-information-form-eng.xls',\n",
       " 'ex160c-eng.xls',\n",
       " 'is-eng.xls',\n",
       " 'minor-deed-poll-pack-eng.zip',\n",
       " 'precedent-h-and-r-eng.xls']"
      ]
     },
     "execution_count": 6,
     "metadata": {},
     "output_type": "execute_result"
    }
   ],
   "source": [
    "pdf = []\n",
    "word = []\n",
    "other = []\n",
    "\n",
    "for subdir, dirs, files in os.walk(rootdir):\n",
    "    for file in files:\n",
    "        if '.pdf' in file:\n",
    "            pdf.append(file)\n",
    "        elif '.doc' in file:\n",
    "            word.append(file)\n",
    "        elif '.docx' in file:\n",
    "            word.append(file)\n",
    "        else:\n",
    "            other.append(file)\n",
    "\n",
    "print \"%d PDF\" % len(pdf)\n",
    "print \"%d Word\" % len(word)\n",
    "print \"%d Other\" % len(other)\n",
    "print \"\\nFiles in other formats:\"\n",
    "other"
   ]
  },
  {
   "cell_type": "code",
   "execution_count": 9,
   "metadata": {
    "collapsed": false
   },
   "outputs": [
    {
     "data": {
      "text/plain": [
       "26"
      ]
     },
     "execution_count": 9,
     "metadata": {},
     "output_type": "execute_result"
    }
   ],
   "source": [
    "# approximate number of duplicates in word and pdf list\n",
    "pdf_codes = [name.split('-')[0].lower() for name in pdf]\n",
    "word_codes = [name.split('-')[0].lower() for name in word]\n",
    "len(set(pdf_codes).intersection(word_codes))"
   ]
  },
  {
   "cell_type": "code",
   "execution_count": 11,
   "metadata": {
    "collapsed": false
   },
   "outputs": [],
   "source": [
    "# extract text from Word docs\n",
    "rootdir = '/Users/eddieandress/development/forms/live_forms/'\n",
    "extraction_file_path = '/Users/eddieandress/development/forms/live_forms_extracted/'\n",
    "os.chdir(rootdir)\n",
    "\n",
    "textract_fail = []\n",
    "\n",
    "for subdir, dirs, files in os.walk(rootdir):\n",
    "    for file in files:\n",
    "        if '.doc' in file:\n",
    "            try:\n",
    "                text = textract.process(file).lower()\n",
    "            except:\n",
    "                textract_fail.append(file)\n",
    "                continue\n",
    "            text_file_name = file.split('.')[0]\n",
    "            text_file = open(extraction_file_path + text_file_name + '_doc.txt', 'w')\n",
    "            text_file.write(text)\n",
    "            text_file.close()            "
   ]
  },
  {
   "cell_type": "code",
   "execution_count": 12,
   "metadata": {
    "collapsed": false
   },
   "outputs": [
    {
     "data": {
      "text/plain": [
       "3"
      ]
     },
     "execution_count": 12,
     "metadata": {},
     "output_type": "execute_result"
    }
   ],
   "source": [
    "len(textract_fail)"
   ]
  },
  {
   "cell_type": "code",
   "execution_count": null,
   "metadata": {
    "collapsed": true
   },
   "outputs": [],
   "source": []
  }
 ],
 "metadata": {
  "kernelspec": {
   "display_name": "Python 2",
   "language": "python",
   "name": "python2"
  },
  "language_info": {
   "codemirror_mode": {
    "name": "ipython",
    "version": 2
   },
   "file_extension": ".py",
   "mimetype": "text/x-python",
   "name": "python",
   "nbconvert_exporter": "python",
   "pygments_lexer": "ipython2",
   "version": "2.7.13"
  }
 },
 "nbformat": 4,
 "nbformat_minor": 0
}
