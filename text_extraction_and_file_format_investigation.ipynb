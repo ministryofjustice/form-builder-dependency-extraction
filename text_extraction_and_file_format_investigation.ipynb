{
 "cells": [
  {
   "cell_type": "code",
   "execution_count": 7,
   "metadata": {
    "collapsed": false
   },
   "outputs": [],
   "source": [
    "import PyPDF2\n",
    "import os\n",
    "import sys\n",
    "import re\n",
    "import textract\n",
    "import docx"
   ]
  },
  {
   "cell_type": "code",
   "execution_count": 10,
   "metadata": {
    "collapsed": false
   },
   "outputs": [],
   "source": [
    "rootdir = '/Users/eddieandress/development/forms/all-live-forms-originals/'\n",
    "extraction_file_path = '/Users/eddieandress/development/forms/all-live-forms-extracted/'\n",
    "os.chdir(rootdir)\n",
    "\n",
    "reader_fail = []\n",
    "pagenum_fail = []\n",
    "\n",
    "for subdir, dirs, files in os.walk(rootdir):\n",
    "    for file in files:\n",
    "        text = \"\"\n",
    "        if '.pdf' in file:\n",
    "            pdfFileObj = open(file, 'rb')\n",
    "            try:\n",
    "                pdfReader = PyPDF2.PdfFileReader(pdfFileObj)\n",
    "            except:\n",
    "                reader_fail.append(file)\n",
    "                continue\n",
    "            try:\n",
    "                num_pages = pdfReader.numPages\n",
    "            except:\n",
    "                pagenum_fail.append(file)\n",
    "                continue\n",
    "            for page in range(num_pages):\n",
    "                page = pdfReader.getPage(page)\n",
    "                text = text + page.extractText().lower()\n",
    "            text = text.encode('ascii', 'ignore')\n",
    "            text_file_name = file.split('.')[0]\n",
    "            text_file = open(extraction_file_path + text_file_name + '.txt', 'w')\n",
    "            text_file.write(text)\n",
    "            text_file.close()\n",
    "\n",
    "# 7 files fail.  W\n",
    "# any other manipulations of the text?\n",
    "# how many are not .pdfs?\n",
    "# are they duplicates of .pdf files in another format?"
   ]
  },
  {
   "cell_type": "code",
   "execution_count": 11,
   "metadata": {
    "collapsed": false
   },
   "outputs": [
    {
     "data": {
      "text/plain": [
       "['c19-cym.pdf',\n",
       " 'n163-eng.pdf',\n",
       " 'n253-eng.pdf',\n",
       " 'n254-bil.pdf',\n",
       " 'n266-bil.pdf',\n",
       " 'n2b-bil.pdf']"
      ]
     },
     "execution_count": 11,
     "metadata": {},
     "output_type": "execute_result"
    }
   ],
   "source": [
    "reader_fail"
   ]
  },
  {
   "cell_type": "code",
   "execution_count": 12,
   "metadata": {
    "collapsed": false
   },
   "outputs": [
    {
     "data": {
      "text/plain": [
       "['n54a-eng.pdf']"
      ]
     },
     "execution_count": 12,
     "metadata": {},
     "output_type": "execute_result"
    }
   ],
   "source": [
    "pagenum_fail"
   ]
  },
  {
   "cell_type": "code",
   "execution_count": 36,
   "metadata": {
    "collapsed": false
   },
   "outputs": [],
   "source": [
    "pdf = []\n",
    "word = []\n",
    "other = []\n",
    "\n",
    "for subdir, dirs, files in os.walk(rootdir):\n",
    "    for file in files:\n",
    "        if '.pdf' in file:\n",
    "            pdf.append(file)\n",
    "        elif '.doc' in file:\n",
    "            word.append(file)\n",
    "        elif '.docx' in file:\n",
    "            word.append(file)\n",
    "        else:\n",
    "            other.append(file)"
   ]
  },
  {
   "cell_type": "code",
   "execution_count": 37,
   "metadata": {
    "collapsed": false
   },
   "outputs": [
    {
     "data": {
      "text/plain": [
       "1570"
      ]
     },
     "execution_count": 37,
     "metadata": {},
     "output_type": "execute_result"
    }
   ],
   "source": [
    "len(pdf)"
   ]
  },
  {
   "cell_type": "code",
   "execution_count": 38,
   "metadata": {
    "collapsed": false
   },
   "outputs": [
    {
     "data": {
      "text/plain": [
       "441"
      ]
     },
     "execution_count": 38,
     "metadata": {},
     "output_type": "execute_result"
    }
   ],
   "source": [
    "len(word)"
   ]
  },
  {
   "cell_type": "code",
   "execution_count": 39,
   "metadata": {
    "collapsed": false
   },
   "outputs": [
    {
     "data": {
      "text/plain": [
       "6"
      ]
     },
     "execution_count": 39,
     "metadata": {},
     "output_type": "execute_result"
    }
   ],
   "source": [
    "len(other)"
   ]
  },
  {
   "cell_type": "code",
   "execution_count": 40,
   "metadata": {
    "collapsed": false
   },
   "outputs": [
    {
     "data": {
      "text/plain": [
       "['adult-deed-poll-pack-eng.zip',\n",
       " 'claim-information-form-eng.xls',\n",
       " 'ex160c-eng.xls',\n",
       " 'is-eng.xls',\n",
       " 'minor-deed-poll-pack-eng.zip',\n",
       " 'precedent-h-and-r-eng.xls']"
      ]
     },
     "execution_count": 40,
     "metadata": {},
     "output_type": "execute_result"
    }
   ],
   "source": [
    "other"
   ]
  },
  {
   "cell_type": "code",
   "execution_count": 47,
   "metadata": {
    "collapsed": false
   },
   "outputs": [],
   "source": [
    "pdf_codes = [name.split('-')[0].lower() for name in pdf]\n",
    "word_codes = [name.split('-')[0].lower() for name in word]"
   ]
  },
  {
   "cell_type": "code",
   "execution_count": 66,
   "metadata": {
    "collapsed": false
   },
   "outputs": [
    {
     "data": {
      "text/plain": [
       "26"
      ]
     },
     "execution_count": 66,
     "metadata": {},
     "output_type": "execute_result"
    }
   ],
   "source": [
    "len(set(pdf_codes).intersection(word_codes))"
   ]
  },
  {
   "cell_type": "code",
   "execution_count": 5,
   "metadata": {
    "collapsed": false
   },
   "outputs": [],
   "source": []
  },
  {
   "cell_type": "code",
   "execution_count": 17,
   "metadata": {
    "collapsed": false
   },
   "outputs": [],
   "source": [
    "# extract text from Word docs\n",
    "rootdir = '/Users/eddieandress/development/forms/all-live-forms-originals/'\n",
    "extraction_file_path = '/Users/eddieandress/development/forms/all-live-forms-extracted/'\n",
    "os.chdir(rootdir)\n",
    "\n",
    "textract_fail = []\n",
    "\n",
    "for subdir, dirs, files in os.walk(rootdir):\n",
    "    for file in files:\n",
    "        if '.doc' in file:\n",
    "            try:\n",
    "                text = textract.process(file).lower()\n",
    "            except:\n",
    "                textract_fail.append(file)\n",
    "                continue\n",
    "            text_file_name = file.split('.')[0]\n",
    "            text_file = open(extraction_file_path + text_file_name + '_doc.txt', 'w')\n",
    "            text_file.write(text)\n",
    "            text_file.close()            "
   ]
  },
  {
   "cell_type": "code",
   "execution_count": 16,
   "metadata": {
    "collapsed": false
   },
   "outputs": [
    {
     "data": {
      "text/plain": [
       "3"
      ]
     },
     "execution_count": 16,
     "metadata": {},
     "output_type": "execute_result"
    }
   ],
   "source": [
    "len(textract_fail)"
   ]
  },
  {
   "cell_type": "code",
   "execution_count": null,
   "metadata": {
    "collapsed": true
   },
   "outputs": [],
   "source": []
  }
 ],
 "metadata": {
  "kernelspec": {
   "display_name": "Python 2",
   "language": "python",
   "name": "python2"
  },
  "language_info": {
   "codemirror_mode": {
    "name": "ipython",
    "version": 2
   },
   "file_extension": ".py",
   "mimetype": "text/x-python",
   "name": "python",
   "nbconvert_exporter": "python",
   "pygments_lexer": "ipython2",
   "version": "2.7.13"
  }
 },
 "nbformat": 4,
 "nbformat_minor": 0
}
